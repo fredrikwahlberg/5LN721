{
  "nbformat": 4,
  "nbformat_minor": 0,
  "metadata": {
    "colab": {
      "name": "Reading PDFs.ipynb",
      "provenance": []
    },
    "kernelspec": {
      "name": "python3",
      "display_name": "Python 3"
    },
    "language_info": {
      "name": "python"
    }
  },
  "cells": [
    {
      "cell_type": "markdown",
      "metadata": {
        "id": "lccIwLNN9Hfb"
      },
      "source": [
        "# Demo of how to read PDFs in python\n",
        "\n",
        "https://pymupdf.readthedocs.io/en/latest/tutorial.html"
      ]
    },
    {
      "cell_type": "code",
      "metadata": {
        "colab": {
          "base_uri": "https://localhost:8080/"
        },
        "id": "rFTJofNL89y2",
        "outputId": "d290ec58-c854-4e13-a906-2fddf8ace988"
      },
      "source": [
        "!pip install PyMuPDF Pillow"
      ],
      "execution_count": 1,
      "outputs": [
        {
          "output_type": "stream",
          "name": "stdout",
          "text": [
            "Requirement already satisfied: PyMuPDF in /usr/local/lib/python3.7/dist-packages (1.19.1)\n",
            "Requirement already satisfied: Pillow in /usr/local/lib/python3.7/dist-packages (7.1.2)\n"
          ]
        }
      ]
    },
    {
      "cell_type": "code",
      "metadata": {
        "colab": {
          "base_uri": "https://localhost:8080/"
        },
        "id": "IMQKa5zw9NiO",
        "outputId": "9fedcdba-938a-43b5-989b-437a016d50e0"
      },
      "source": [
        "import fitz\n",
        "print(fitz.__doc__)"
      ],
      "execution_count": 2,
      "outputs": [
        {
          "output_type": "stream",
          "name": "stdout",
          "text": [
            "\n",
            "PyMuPDF 1.19.1: Python bindings for the MuPDF 1.19.0 library.\n",
            "Version date: 2021-10-23 00:00:01.\n",
            "Built for Python 3.7 on linux (64-bit).\n",
            "\n"
          ]
        }
      ]
    },
    {
      "cell_type": "code",
      "metadata": {
        "colab": {
          "base_uri": "https://localhost:8080/"
        },
        "id": "XjJ8FTp09fD5",
        "outputId": "1e4ee303-9c15-457e-9ca1-6bd2cf0667b5"
      },
      "source": [
        "doc = fitz.open(\"Veckojournalen_1948_34.pdf\")\n",
        "doc"
      ],
      "execution_count": 6,
      "outputs": [
        {
          "output_type": "execute_result",
          "data": {
            "text/plain": [
              "Document('Veckojournalen_1948_34.pdf')"
            ]
          },
          "metadata": {},
          "execution_count": 6
        }
      ]
    },
    {
      "cell_type": "code",
      "metadata": {
        "colab": {
          "base_uri": "https://localhost:8080/"
        },
        "id": "aQUyKlEm9wCG",
        "outputId": "20f1aa7a-3aac-4658-f96e-5dd462d7341d"
      },
      "source": [
        "len(doc)"
      ],
      "execution_count": 7,
      "outputs": [
        {
          "output_type": "execute_result",
          "data": {
            "text/plain": [
              "18"
            ]
          },
          "metadata": {},
          "execution_count": 7
        }
      ]
    },
    {
      "cell_type": "code",
      "metadata": {
        "colab": {
          "base_uri": "https://localhost:8080/"
        },
        "id": "tVu1ELal_rOU",
        "outputId": "818fb84b-b7b0-4fe4-cc25-f18730958220"
      },
      "source": [
        "page = doc[0]\n",
        "page"
      ],
      "execution_count": 11,
      "outputs": [
        {
          "output_type": "execute_result",
          "data": {
            "text/plain": [
              "page 0 of Veckojournalen_1948_34.pdf"
            ]
          },
          "metadata": {},
          "execution_count": 11
        }
      ]
    },
    {
      "cell_type": "code",
      "metadata": {
        "colab": {
          "base_uri": "https://localhost:8080/"
        },
        "id": "oIY6zapSATcz",
        "outputId": "f7741387-719d-4317-911c-3dfdc5f67879"
      },
      "source": [
        "pixmap = page.get_pixmap()\n",
        "pixmap"
      ],
      "execution_count": 12,
      "outputs": [
        {
          "output_type": "execute_result",
          "data": {
            "text/plain": [
              "Pixmap(DeviceRGB, IRect(0, 0, 1385, 915), 0)"
            ]
          },
          "metadata": {},
          "execution_count": 12
        }
      ]
    },
    {
      "cell_type": "code",
      "metadata": {
        "id": "sRgcCOn6AZuy"
      },
      "source": [
        "pixmap.save(\"page-%i.png\" % page.number)"
      ],
      "execution_count": 13,
      "outputs": []
    }
  ]
}