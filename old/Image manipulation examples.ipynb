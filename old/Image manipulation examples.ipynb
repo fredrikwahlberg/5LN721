{
 "cells": [
  {
   "cell_type": "markdown",
   "metadata": {},
   "source": [
    "# Some examples of image manipulation for evaluating OCR\n",
    "\n",
    "First, some imports."
   ]
  },
  {
   "cell_type": "code",
   "execution_count": null,
   "metadata": {},
   "outputs": [],
   "source": [
    "import cv2                      # Computer Vision\n",
    "import numpy as np              # Vector math\n",
    "import matplotlib.pyplot as plt # Plotting\n",
    "%matplotlib inline"
   ]
  },
  {
   "cell_type": "markdown",
   "metadata": {},
   "source": [
    "Let's generate an image with text."
   ]
  },
  {
   "cell_type": "code",
   "execution_count": null,
   "metadata": {},
   "outputs": [],
   "source": [
    "img = np.asarray(cv2.putText(np.zeros((30, 190)), \"Some text\", (5, 25), cv2.FONT_HERSHEY_COMPLEX,\n",
    "                             1.0, (255, 255, 255), 2, cv2.LINE_AA)\n",
    "                 , dtype=np.uint8)\n",
    "\n",
    "plt.imshow(img, cmap='gray')\n",
    "plt.show()"
   ]
  },
  {
   "cell_type": "code",
   "execution_count": null,
   "metadata": {},
   "outputs": [],
   "source": [
    "img"
   ]
  },
  {
   "cell_type": "markdown",
   "metadata": {},
   "source": [
    "A connected component is a patch of similarly coloured pixels."
   ]
  },
  {
   "cell_type": "code",
   "execution_count": null,
   "metadata": {},
   "outputs": [],
   "source": [
    "_, cc = cv2.connectedComponents(img, connectivity=4)\n",
    "plt.imshow(cc, cmap='tab20')\n",
    "plt.show()"
   ]
  },
  {
   "cell_type": "markdown",
   "metadata": {},
   "source": [
    "Let's try some salt and papper noise. This is the type of noise you get using "
   ]
  },
  {
   "cell_type": "code",
   "execution_count": null,
   "metadata": {},
   "outputs": [],
   "source": [
    "def salt_and_papper_noise(image, n_noise=10):\n",
    "    img_sp = image.copy()\n",
    "    for i in range(n_noise):\n",
    "        a = np.random.randint(img_sp.shape[0])\n",
    "        b = np.random.randint(img_sp.shape[1])\n",
    "        if img_sp[a, b] == 0:\n",
    "            img_sp[a, b] = 255\n",
    "        else:\n",
    "            img_sp[a, b] = 0\n",
    "    return img_sp\n",
    "\n",
    "img_sp = salt_and_papper_noise(img, 10)\n",
    "\n",
    "plt.figure(figsize=(10, 5))\n",
    "plt.subplot(3, 1, 1)\n",
    "plt.imshow(img, cmap='gray')\n",
    "plt.axis('off')\n",
    "plt.subplot(3, 1, 2)\n",
    "plt.imshow(img_sp, cmap='gray')\n",
    "plt.axis('off');\n",
    "plt.subplot(3, 1, 3)\n",
    "_, cc = cv2.connectedComponents(img_sp, connectivity=4)\n",
    "plt.imshow(cc, cmap='tab20')\n",
    "plt.axis('off');\n",
    "plt.tight_layout()\n",
    "plt.show()"
   ]
  },
  {
   "cell_type": "markdown",
   "metadata": {},
   "source": [
    "Salt and pepper noise can, at least to some extent, be removed using a median filter."
   ]
  },
  {
   "cell_type": "code",
   "execution_count": null,
   "metadata": {},
   "outputs": [],
   "source": [
    "# Median filtering\n",
    "img_sp = salt_and_papper_noise(img, 10)\n",
    "img_median = cv2.medianBlur(img_sp, 3)\n",
    "\n",
    "plt.figure(figsize=(10, 5))\n",
    "plt.subplot(3, 1, 1)\n",
    "plt.imshow(img, cmap='gray')\n",
    "plt.axis('off')\n",
    "plt.subplot(3, 1, 2)\n",
    "plt.imshow(img_sp, cmap='gray')\n",
    "plt.axis('off');\n",
    "plt.subplot(3, 1, 3)\n",
    "plt.imshow(img_median, cmap='gray')\n",
    "plt.axis('off');\n",
    "plt.tight_layout()\n",
    "plt.show()"
   ]
  },
  {
   "cell_type": "markdown",
   "metadata": {},
   "source": [
    "## Gaussian noise\n",
    "\n",
    "Another kind of common noise is Gaussian noise. This is the type of noise that makes the image \"grainy\"."
   ]
  },
  {
   "cell_type": "code",
   "execution_count": null,
   "metadata": {},
   "outputs": [],
   "source": [
    "# When working with Gaussian noise, we need some space between the used colours and the data type limits.\n",
    "img[img==0] = 100\n",
    "img[img==255] = 200\n",
    "\n",
    "# Add some Gaussian noise\n",
    "sigma = 20\n",
    "img_noise = img + np.random.normal(0, sigma, size=img.shape)\n",
    "\n",
    "# Convert back to 8bit image\n",
    "img_noise[img_noise<0] = 0\n",
    "img_noise[img_noise>255] = 255\n",
    "img_noise = np.asarray(img_noise, dtype=np.uint8)\n",
    "\n",
    "# Blur to average out the noise\n",
    "img_blur = cv2.GaussianBlur(img_noise, (5, 5), 0)\n",
    "\n",
    "# Threshold the image to separate foreground and background\n",
    "_, img_thresholded = cv2.threshold(img_noise, 127, 255, cv2.THRESH_BINARY)\n",
    "\n",
    "\n",
    "plt.figure(figsize=(10, 8))\n",
    "plt.subplot(4, 1, 1)\n",
    "plt.imshow(img, cmap='gray')\n",
    "plt.axis('off')\n",
    "plt.subplot(4, 1, 2)\n",
    "plt.imshow(img_noise, cmap='gray')\n",
    "plt.axis('off');\n",
    "plt.subplot(4, 1, 3)\n",
    "plt.imshow(img_blur, cmap='gray')\n",
    "plt.axis('off');\n",
    "plt.subplot(4, 1, 4)\n",
    "plt.imshow(img_thresholded, cmap='gray')\n",
    "plt.axis('off');\n",
    "plt.tight_layout()\n",
    "plt.show()"
   ]
  },
  {
   "cell_type": "markdown",
   "metadata": {},
   "source": [
    "Now, let's try this while varying the noise intensity."
   ]
  },
  {
   "cell_type": "code",
   "execution_count": null,
   "metadata": {},
   "outputs": [],
   "source": [
    "def distort(image, sigma):\n",
    "    \"\"\"Add Gaussian noise\"\"\"\n",
    "    img_noise = image + np.random.normal(0, sigma, size=image.shape)\n",
    "    img_noise[img_noise<0] = 0\n",
    "    img_noise[img_noise>255] = 255\n",
    "    return np.asarray(img_noise, dtype=np.uint8)\n",
    "\n",
    "def blur(image, n):\n",
    "    \"\"\"Gaussian blur\"\"\"\n",
    "    return cv2.GaussianBlur(image, (n, n), 0)\n",
    "\n",
    "def binarize(image):\n",
    "    \"\"\"Separate foreground from background\"\"\"\n",
    "    _, img_thresholded = cv2.threshold(image, 127, 255, cv2.THRESH_BINARY)\n",
    "    img_thresholded[img_thresholded==0] = 100\n",
    "    img_thresholded[img_thresholded==255] = 200\n",
    "    return img_thresholded\n",
    "\n",
    "sigmas = np.arange(0, 50, 0.2)\n",
    "filter3 = list()\n",
    "filter5 = list()\n",
    "filter7 = list()\n",
    "for sigma in sigmas:\n",
    "    I = distort(img, sigma)\n",
    "    filter3.append(np.sum((img - binarize(blur(I, 3)))**2))\n",
    "    filter5.append(np.sum((img - binarize(blur(I, 5)))**2))\n",
    "    filter7.append(np.sum((img - binarize(blur(I, 7)))**2))\n",
    "\n",
    "plt.figure(figsize=(8, 4), dpi=100)\n",
    "plt.plot(sigmas, filter3, label=\"n=3\")\n",
    "plt.plot(sigmas, filter5, label=\"n=5\")\n",
    "plt.plot(sigmas, filter7, label=\"n=7\")\n",
    "plt.legend(loc='lower right')\n",
    "plt.ylabel(\"square sum error\")\n",
    "plt.xlabel(\"noise intensity (sigma)\")\n",
    "plt.show()"
   ]
  }
 ],
 "metadata": {
  "kernelspec": {
   "display_name": "Python 3",
   "language": "python",
   "name": "python3"
  },
  "language_info": {
   "codemirror_mode": {
    "name": "ipython",
    "version": 3
   },
   "file_extension": ".py",
   "mimetype": "text/x-python",
   "name": "python",
   "nbconvert_exporter": "python",
   "pygments_lexer": "ipython3",
   "version": "3.7.3"
  }
 },
 "nbformat": 4,
 "nbformat_minor": 4
}
