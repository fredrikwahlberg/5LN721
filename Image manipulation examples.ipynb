{
 "cells": [
  {
   "cell_type": "markdown",
   "metadata": {},
   "source": [
    "# Some examples of image manipulation for evaluating OCR"
   ]
  },
  {
   "cell_type": "code",
   "execution_count": 1,
   "metadata": {},
   "outputs": [],
   "source": [
    "import cv2                      # Computer Vision\n",
    "import numpy as np              # Vector math\n",
    "import matplotlib.pyplot as plt # Plotting\n",
    "%matplotlib inline"
   ]
  },
  {
   "cell_type": "markdown",
   "metadata": {},
   "source": []
  },
  {
   "cell_type": "code",
   "execution_count": 2,
   "metadata": {},
   "outputs": [
    {
     "data": {
      "image/png": "[encoded data removed]",
      "text/plain": [
       "<Figure size 432x288 with 1 Axes>"
      ]
     },
     "metadata": {},
     "output_type": "display_data"
    }
   ],
   "source": [
    "img = np.asarray(cv2.putText(np.zeros((30, 70)), \"ABC\", (5, 25), cv2.FONT_HERSHEY_COMPLEX,\n",
    "                             1.0, (255, 255, 255), 2, cv2.LINE_AA)\n",
    "                 , dtype=np.uint8)\n",
    "\n",
    "plt.imshow(img, cmap='gray');"
   ]
  },
  {
   "cell_type": "code",
   "execution_count": 3,
   "metadata": {},
   "outputs": [
    {
     "data": {
      "text/plain": [
       "array([[0, 0, 0, ..., 0, 0, 0],\n",
       "       [0, 0, 0, ..., 0, 0, 0],\n",
       "       [0, 0, 0, ..., 0, 0, 0],\n",
       "       ...,\n",
       "       [0, 0, 0, ..., 0, 0, 0],\n",
       "       [0, 0, 0, ..., 0, 0, 0],\n",
       "       [0, 0, 0, ..., 0, 0, 0]], dtype=uint8)"
      ]
     },
     "execution_count": 3,
     "metadata": {},
     "output_type": "execute_result"
    }
   ],
   "source": [
    "img"
   ]
  },
  {
   "cell_type": "code",
   "execution_count": 4,
   "metadata": {},
   "outputs": [
    {
     "data": {
      "text/plain": [
       "<matplotlib.image.AxesImage at 0x7f6c7da59828>"
      ]
     },
     "execution_count": 4,
     "metadata": {},
     "output_type": "execute_result"
    },
    {
     "data": {
      "image/png": "[encoded data removed]",
      "text/plain": [
       "<Figure size 432x288 with 1 Axes>"
      ]
     },
     "metadata": {},
     "output_type": "display_data"
    }
   ],
   "source": [
    "_, cc = cv2.connectedComponents(img, connectivity=4)\n",
    "plt.imshow(cc, cmap='jet')"
   ]
  },
  {
   "cell_type": "code",
   "execution_count": 5,
   "metadata": {},
   "outputs": [
    {
     "data": {
      "image/png": "[encoded data removed]",
      "text/plain": [
       "<Figure size 1080x360 with 3 Axes>"
      ]
     },
     "metadata": {},
     "output_type": "display_data"
    }
   ],
   "source": [
    "\n",
    "def salt_and_papper_noise(image, n_noise=10):\n",
    "    img_sp = image.copy()\n",
    "    for i in range(n_noise):\n",
    "        a = np.random.randint(img_sp.shape[0])\n",
    "        b = np.random.randint(img_sp.shape[1])\n",
    "        if img_sp[a, b] == 0:\n",
    "            img_sp[a, b] = 255\n",
    "        else:\n",
    "            img_sp[a, b] = 0\n",
    "    return img_sp\n",
    "\n",
    "img_sp = salt_and_papper_noise(img, 10)\n",
    "\n",
    "plt.figure(figsize=(15, 5))\n",
    "plt.subplot(1, 3, 1)\n",
    "plt.imshow(img, cmap='gray')\n",
    "plt.axis('off')\n",
    "plt.subplot(1, 3, 2)\n",
    "plt.imshow(img_sp, cmap='gray')\n",
    "plt.axis('off');\n",
    "plt.subplot(1, 3, 3)\n",
    "_, cc = cv2.connectedComponents(img_sp, connectivity=4)\n",
    "plt.imshow(cc, cmap='tab20')\n",
    "plt.axis('off');\n",
    "plt.tight_layout()\n",
    "plt.show()"
   ]
  },
  {
   "cell_type": "code",
   "execution_count": 6,
   "metadata": {},
   "outputs": [
    {
     "data": {
      "image/png": "[encoded data removed]",
      "text/plain": [
       "<Figure size 1080x360 with 4 Axes>"
      ]
     },
     "metadata": {},
     "output_type": "display_data"
    }
   ],
   "source": [
    "# Median filtering\n",
    "img_sp = salt_and_papper_noise(img, 10)\n",
    "img_median = cv2.medianBlur(img_sp, 3)\n",
    "img_blur = cv2.GaussianBlur(img_sp, (5, 5), 0)\n",
    "\n",
    "plt.figure(figsize=(15, 5))\n",
    "plt.subplot(2, 2, 1)\n",
    "plt.imshow(img, cmap='gray')\n",
    "plt.axis('off')\n",
    "plt.subplot(2, 2, 2)\n",
    "plt.imshow(img_sp, cmap='gray')\n",
    "plt.axis('off');\n",
    "plt.subplot(2, 2, 3)\n",
    "plt.imshow(img_median, cmap='gray')\n",
    "plt.axis('off');\n",
    "plt.subplot(2, 2, 4)\n",
    "plt.imshow(img_blur, cmap='gray')\n",
    "plt.axis('off');\n",
    "plt.tight_layout()\n",
    "plt.show()"
   ]
  },
  {
   "cell_type": "code",
   "execution_count": 7,
   "metadata": {},
   "outputs": [],
   "source": [
    "#img = cv2.medianBlur(img, 5)\n",
    "#ret, th1 = cv2.threshold(img, 127, 255, cv2.THRESH_BINARY)\n",
    "# TODO Image resizing\n",
    "# TODO Binarization"
   ]
  }
 ],
 "metadata": {
  "kernelspec": {
   "display_name": "Python 3",
   "language": "python",
   "name": "python3"
  },
  "language_info": {
   "codemirror_mode": {
    "name": "ipython",
    "version": 3
   },
   "file_extension": ".py",
   "mimetype": "text/x-python",
   "name": "python",
   "nbconvert_exporter": "python",
   "pygments_lexer": "ipython3",
   "version": "3.6.5"
  }
 },
 "nbformat": 4,
 "nbformat_minor": 2
}
